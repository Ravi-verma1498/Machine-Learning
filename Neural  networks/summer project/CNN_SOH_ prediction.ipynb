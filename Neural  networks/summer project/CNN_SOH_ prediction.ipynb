{
  "cells": [
    {
      "cell_type": "code",
      "execution_count": null,
      "metadata": {
        "id": "fUto_Tx0EHnL"
      },
      "outputs": [],
      "source": [
        "import numpy as np\n",
        "import tensorflow as tf\n",
        "from tensorflow.keras.layers import Input, Conv2D, LayerNormalization, ReLU, MaxPooling2D, AveragePooling2D, Dense, Flatten\n",
        "from tensorflow.keras.models import Model\n",
        "from tensorflow.keras.optimizers import Adam\n",
        "from tensorflow.keras.callbacks import EarlyStopping, ModelCheckpoint\n",
        "from sklearn.model_selection import train_test_split\n",
        "\n"
      ]
    },
    {
      "cell_type": "code",
      "source": [
        "from google.colab import drive\n",
        "drive.mount('/content/drive')\n"
      ],
      "metadata": {
        "colab": {
          "base_uri": "https://localhost:8080/"
        },
        "id": "V9jcCNlK9W-o",
        "outputId": "f4313cc2-28aa-4ab2-b0db-b80a30b59756"
      },
      "execution_count": null,
      "outputs": [
        {
          "output_type": "stream",
          "name": "stdout",
          "text": [
            "Mounted at /content/drive\n"
          ]
        }
      ]
    },
    {
      "cell_type": "code",
      "execution_count": null,
      "metadata": {
        "id": "qiQ5uF3sEHnN"
      },
      "outputs": [],
      "source": [
        "# Load your data\n",
        "\n",
        "# Load the arrays back from the .npz file\n",
        "loaded = np.load('/content/drive/MyDrive/project/arrays_soh.npz')\n",
        "data = loaded['array1']\n",
        "target = loaded['array2']"
      ]
    },
    {
      "cell_type": "code",
      "source": [
        "\n",
        "# Load the arrays back from the .npz file\n",
        "loaded1 = np.load('/content/drive/MyDrive/project/arraysVald_soh.npz')\n",
        "data_vald = loaded1['array1']\n",
        "target_vald = loaded1['array2']"
      ],
      "metadata": {
        "id": "tfAlI59_4bI8"
      },
      "execution_count": null,
      "outputs": []
    },
    {
      "cell_type": "code",
      "source": [
        "result_array = np.concatenate((data, data_vald), axis=3)"
      ],
      "metadata": {
        "id": "qQ6SZprORyC8"
      },
      "execution_count": null,
      "outputs": []
    },
    {
      "cell_type": "code",
      "source": [
        "result_target = np.concatenate((target, target_vald), axis=0)"
      ],
      "metadata": {
        "id": "_IDHYvexSSBB"
      },
      "execution_count": null,
      "outputs": []
    },
    {
      "cell_type": "code",
      "source": [
        "result_array.shape"
      ],
      "metadata": {
        "colab": {
          "base_uri": "https://localhost:8080/"
        },
        "id": "Ch_zhr70R58U",
        "outputId": "196e4b18-e7dc-4efd-91a3-99c19c03d6a1"
      },
      "execution_count": null,
      "outputs": [
        {
          "output_type": "execute_result",
          "data": {
            "text/plain": [
              "(30, 30, 3, 87487)"
            ]
          },
          "metadata": {},
          "execution_count": 7
        }
      ]
    },
    {
      "cell_type": "code",
      "source": [
        "result_target.shape"
      ],
      "metadata": {
        "colab": {
          "base_uri": "https://localhost:8080/"
        },
        "id": "sjs36vGVRUsu",
        "outputId": "d36b1c6e-a708-4de0-d6e0-4570296358dd"
      },
      "execution_count": null,
      "outputs": [
        {
          "output_type": "execute_result",
          "data": {
            "text/plain": [
              "(87487,)"
            ]
          },
          "metadata": {},
          "execution_count": 8
        }
      ]
    },
    {
      "cell_type": "code",
      "source": [
        "# Transpose the data to have shape (7703, 30, 30, 3)\n",
        "data = np.transpose(result_array, (3, 0, 1, 2))"
      ],
      "metadata": {
        "id": "e7nBgc_qEYdc"
      },
      "execution_count": null,
      "outputs": []
    },
    {
      "cell_type": "code",
      "source": [
        "data.shape"
      ],
      "metadata": {
        "colab": {
          "base_uri": "https://localhost:8080/"
        },
        "id": "yZoL8rh9BfYf",
        "outputId": "48cd835f-d4de-4a13-a334-778a9b82520b"
      },
      "execution_count": null,
      "outputs": [
        {
          "output_type": "execute_result",
          "data": {
            "text/plain": [
              "(87487, 30, 30, 3)"
            ]
          },
          "metadata": {},
          "execution_count": 10
        }
      ]
    },
    {
      "cell_type": "code",
      "source": [
        "result_target.shape"
      ],
      "metadata": {
        "colab": {
          "base_uri": "https://localhost:8080/"
        },
        "id": "HafaGofy6Umo",
        "outputId": "2050fd4e-5744-4d9b-9abe-f10cd2d52bd0"
      },
      "execution_count": null,
      "outputs": [
        {
          "output_type": "execute_result",
          "data": {
            "text/plain": [
              "(87487,)"
            ]
          },
          "metadata": {},
          "execution_count": 11
        }
      ]
    },
    {
      "cell_type": "code",
      "source": [
        "\n",
        "# Define the CNN model\n",
        "input_layer = Input(shape=(30, 30, 3))\n",
        "x = Conv2D(8, (3, 3), padding='same')(input_layer)\n",
        "x = LayerNormalization()(x)\n",
        "x = ReLU()(x)\n",
        "x = MaxPooling2D(pool_size=(2, 2), strides=2)(x)\n",
        "x = Conv2D(16, (3, 3), padding='same')(x)\n",
        "x = LayerNormalization()(x)\n",
        "x = ReLU()(x)\n",
        "x = AveragePooling2D(pool_size=(2, 2), strides=2)(x)\n",
        "x = Conv2D(32, (3, 3), padding='same')(x)\n",
        "x = LayerNormalization()(x)\n",
        "x = ReLU()(x)\n",
        "x = Conv2D(32, (3, 3), padding='same')(x)\n",
        "x = LayerNormalization()(x)\n",
        "x = ReLU()(x)\n",
        "x = Conv2D(32, (3, 3), padding='same')(x)\n",
        "x = LayerNormalization()(x)\n",
        "x = ReLU()(x)\n",
        "x = Flatten()(x)\n",
        "x = Dense(1)(x)\n",
        "#x=ReLU()(x)\n",
        "\n",
        "model = Model(inputs=input_layer, outputs=x)\n",
        "model.summary()"
      ],
      "metadata": {
        "colab": {
          "base_uri": "https://localhost:8080/"
        },
        "id": "6Zt5i98tEPqR",
        "outputId": "d16234aa-1663-4d23-a6cc-99c217a0c61b"
      },
      "execution_count": null,
      "outputs": [
        {
          "output_type": "stream",
          "name": "stdout",
          "text": [
            "Model: \"model\"\n",
            "_________________________________________________________________\n",
            " Layer (type)                Output Shape              Param #   \n",
            "=================================================================\n",
            " input_1 (InputLayer)        [(None, 30, 30, 3)]       0         \n",
            "                                                                 \n",
            " conv2d (Conv2D)             (None, 30, 30, 8)         224       \n",
            "                                                                 \n",
            " layer_normalization (Layer  (None, 30, 30, 8)         16        \n",
            " Normalization)                                                  \n",
            "                                                                 \n",
            " re_lu (ReLU)                (None, 30, 30, 8)         0         \n",
            "                                                                 \n",
            " max_pooling2d (MaxPooling2  (None, 15, 15, 8)         0         \n",
            " D)                                                              \n",
            "                                                                 \n",
            " conv2d_1 (Conv2D)           (None, 15, 15, 16)        1168      \n",
            "                                                                 \n",
            " layer_normalization_1 (Lay  (None, 15, 15, 16)        32        \n",
            " erNormalization)                                                \n",
            "                                                                 \n",
            " re_lu_1 (ReLU)              (None, 15, 15, 16)        0         \n",
            "                                                                 \n",
            " average_pooling2d (Average  (None, 7, 7, 16)          0         \n",
            " Pooling2D)                                                      \n",
            "                                                                 \n",
            " conv2d_2 (Conv2D)           (None, 7, 7, 32)          4640      \n",
            "                                                                 \n",
            " layer_normalization_2 (Lay  (None, 7, 7, 32)          64        \n",
            " erNormalization)                                                \n",
            "                                                                 \n",
            " re_lu_2 (ReLU)              (None, 7, 7, 32)          0         \n",
            "                                                                 \n",
            " conv2d_3 (Conv2D)           (None, 7, 7, 32)          9248      \n",
            "                                                                 \n",
            " layer_normalization_3 (Lay  (None, 7, 7, 32)          64        \n",
            " erNormalization)                                                \n",
            "                                                                 \n",
            " re_lu_3 (ReLU)              (None, 7, 7, 32)          0         \n",
            "                                                                 \n",
            " conv2d_4 (Conv2D)           (None, 7, 7, 32)          9248      \n",
            "                                                                 \n",
            " layer_normalization_4 (Lay  (None, 7, 7, 32)          64        \n",
            " erNormalization)                                                \n",
            "                                                                 \n",
            " re_lu_4 (ReLU)              (None, 7, 7, 32)          0         \n",
            "                                                                 \n",
            " flatten (Flatten)           (None, 1568)              0         \n",
            "                                                                 \n",
            " dense (Dense)               (None, 1)                 1569      \n",
            "                                                                 \n",
            "=================================================================\n",
            "Total params: 26337 (102.88 KB)\n",
            "Trainable params: 26337 (102.88 KB)\n",
            "Non-trainable params: 0 (0.00 Byte)\n",
            "_________________________________________________________________\n"
          ]
        }
      ]
    },
    {
      "cell_type": "code",
      "execution_count": null,
      "metadata": {
        "id": "PFSQaNbmEHnP"
      },
      "outputs": [],
      "source": [
        "# Compile the model\n",
        "model.compile(optimizer=Adam(learning_rate=0.001), loss='mae', metrics=[tf.keras.metrics.RootMeanSquaredError(),tf.keras.metrics.MeanAbsoluteError()])"
      ]
    },
    {
      "cell_type": "code",
      "execution_count": null,
      "metadata": {
        "id": "UFW2Mo4yEHnQ"
      },
      "outputs": [],
      "source": [
        "# Set up callbacks\n",
        "checkpoint = ModelCheckpoint('best_model.h5', monitor='val_loss', save_best_only=True, mode='min', verbose=1)\n",
        "early_stopping = EarlyStopping(monitor='val_loss', patience=10, verbose=1, mode='min')"
      ]
    },
    {
      "cell_type": "code",
      "execution_count": null,
      "metadata": {
        "id": "Sk-oYsLbEHnR"
      },
      "outputs": [],
      "source": [
        "# Split the data into training and validation sets\n",
        "train_data, val_data, train_labels, val_labels = train_test_split(data,result_target, test_size=0.2, random_state=42)"
      ]
    },
    {
      "cell_type": "code",
      "source": [
        "val_data.shape"
      ],
      "metadata": {
        "colab": {
          "base_uri": "https://localhost:8080/"
        },
        "id": "pneI2xXRT1Ag",
        "outputId": "560c21cb-372d-4dc1-8973-b6b9dea317ce"
      },
      "execution_count": null,
      "outputs": [
        {
          "output_type": "execute_result",
          "data": {
            "text/plain": [
              "(17498, 30, 30, 3)"
            ]
          },
          "metadata": {},
          "execution_count": 16
        }
      ]
    },
    {
      "cell_type": "code",
      "source": [
        "train_data.shape"
      ],
      "metadata": {
        "colab": {
          "base_uri": "https://localhost:8080/"
        },
        "id": "j4H4m6qmT88b",
        "outputId": "9c27460b-13ff-41a6-b5b1-a4f5a3f0cc20"
      },
      "execution_count": null,
      "outputs": [
        {
          "output_type": "execute_result",
          "data": {
            "text/plain": [
              "(69989, 30, 30, 3)"
            ]
          },
          "metadata": {},
          "execution_count": 17
        }
      ]
    },
    {
      "cell_type": "code",
      "execution_count": null,
      "metadata": {
        "colab": {
          "base_uri": "https://localhost:8080/"
        },
        "id": "KxwX3eV3EHnR",
        "outputId": "647b6a8d-77ca-408b-a753-aeb5c3768533"
      },
      "outputs": [
        {
          "output_type": "stream",
          "name": "stdout",
          "text": [
            "Epoch 1/100\n",
            "273/274 [============================>.] - ETA: 0s - loss: 0.0720 - root_mean_squared_error: 0.1579 - mean_absolute_error: 0.0720\n",
            "Epoch 1: val_loss improved from inf to 0.04304, saving model to best_model.h5\n",
            "274/274 [==============================] - 20s 64ms/step - loss: 0.0720 - root_mean_squared_error: 0.1578 - mean_absolute_error: 0.0720 - val_loss: 0.0430 - val_root_mean_squared_error: 0.0531 - val_mean_absolute_error: 0.0430\n",
            "Epoch 2/100\n",
            "  2/274 [..............................] - ETA: 15s - loss: 0.0433 - root_mean_squared_error: 0.0582 - mean_absolute_error: 0.0433"
          ]
        },
        {
          "output_type": "stream",
          "name": "stderr",
          "text": [
            "/usr/local/lib/python3.10/dist-packages/keras/src/engine/training.py:3103: UserWarning: You are saving your model as an HDF5 file via `model.save()`. This file format is considered legacy. We recommend using instead the native Keras format, e.g. `model.save('my_model.keras')`.\n",
            "  saving_api.save_model(\n"
          ]
        },
        {
          "output_type": "stream",
          "name": "stdout",
          "text": [
            "274/274 [==============================] - ETA: 0s - loss: 0.0444 - root_mean_squared_error: 0.0599 - mean_absolute_error: 0.0444\n",
            "Epoch 2: val_loss improved from 0.04304 to 0.03396, saving model to best_model.h5\n",
            "274/274 [==============================] - 15s 56ms/step - loss: 0.0444 - root_mean_squared_error: 0.0599 - mean_absolute_error: 0.0444 - val_loss: 0.0340 - val_root_mean_squared_error: 0.0503 - val_mean_absolute_error: 0.0340\n",
            "Epoch 3/100\n",
            "273/274 [============================>.] - ETA: 0s - loss: 0.0582 - root_mean_squared_error: 0.0777 - mean_absolute_error: 0.0582\n",
            "Epoch 3: val_loss did not improve from 0.03396\n",
            "274/274 [==============================] - 15s 56ms/step - loss: 0.0582 - root_mean_squared_error: 0.0777 - mean_absolute_error: 0.0582 - val_loss: 0.0351 - val_root_mean_squared_error: 0.0470 - val_mean_absolute_error: 0.0351\n",
            "Epoch 4/100\n",
            "273/274 [============================>.] - ETA: 0s - loss: 0.0477 - root_mean_squared_error: 0.0644 - mean_absolute_error: 0.0477\n",
            "Epoch 4: val_loss did not improve from 0.03396\n",
            "274/274 [==============================] - 15s 56ms/step - loss: 0.0477 - root_mean_squared_error: 0.0644 - mean_absolute_error: 0.0477 - val_loss: 0.0395 - val_root_mean_squared_error: 0.0596 - val_mean_absolute_error: 0.0395\n",
            "Epoch 5/100\n",
            "273/274 [============================>.] - ETA: 0s - loss: 0.0467 - root_mean_squared_error: 0.0621 - mean_absolute_error: 0.0467\n",
            "Epoch 5: val_loss improved from 0.03396 to 0.02947, saving model to best_model.h5\n",
            "274/274 [==============================] - 15s 56ms/step - loss: 0.0467 - root_mean_squared_error: 0.0621 - mean_absolute_error: 0.0467 - val_loss: 0.0295 - val_root_mean_squared_error: 0.0352 - val_mean_absolute_error: 0.0295\n",
            "Epoch 6/100\n",
            "273/274 [============================>.] - ETA: 0s - loss: 0.0534 - root_mean_squared_error: 0.0679 - mean_absolute_error: 0.0534\n",
            "Epoch 6: val_loss improved from 0.02947 to 0.02652, saving model to best_model.h5\n",
            "274/274 [==============================] - 15s 55ms/step - loss: 0.0534 - root_mean_squared_error: 0.0679 - mean_absolute_error: 0.0534 - val_loss: 0.0265 - val_root_mean_squared_error: 0.0299 - val_mean_absolute_error: 0.0265\n",
            "Epoch 7/100\n",
            "273/274 [============================>.] - ETA: 0s - loss: 0.0361 - root_mean_squared_error: 0.0457 - mean_absolute_error: 0.0361\n",
            "Epoch 7: val_loss did not improve from 0.02652\n",
            "274/274 [==============================] - 15s 55ms/step - loss: 0.0360 - root_mean_squared_error: 0.0457 - mean_absolute_error: 0.0360 - val_loss: 0.0489 - val_root_mean_squared_error: 0.0518 - val_mean_absolute_error: 0.0489\n",
            "Epoch 8/100\n",
            "273/274 [============================>.] - ETA: 0s - loss: 0.0248 - root_mean_squared_error: 0.0331 - mean_absolute_error: 0.0248\n",
            "Epoch 8: val_loss did not improve from 0.02652\n",
            "274/274 [==============================] - 15s 55ms/step - loss: 0.0249 - root_mean_squared_error: 0.0332 - mean_absolute_error: 0.0249 - val_loss: 0.0572 - val_root_mean_squared_error: 0.0593 - val_mean_absolute_error: 0.0572\n",
            "Epoch 9/100\n",
            "273/274 [============================>.] - ETA: 0s - loss: 0.0240 - root_mean_squared_error: 0.0312 - mean_absolute_error: 0.0240\n",
            "Epoch 9: val_loss improved from 0.02652 to 0.01519, saving model to best_model.h5\n",
            "274/274 [==============================] - 15s 55ms/step - loss: 0.0240 - root_mean_squared_error: 0.0312 - mean_absolute_error: 0.0240 - val_loss: 0.0152 - val_root_mean_squared_error: 0.0184 - val_mean_absolute_error: 0.0152\n",
            "Epoch 10/100\n",
            "274/274 [==============================] - ETA: 0s - loss: 0.0198 - root_mean_squared_error: 0.0274 - mean_absolute_error: 0.0198\n",
            "Epoch 10: val_loss did not improve from 0.01519\n",
            "274/274 [==============================] - 15s 56ms/step - loss: 0.0198 - root_mean_squared_error: 0.0274 - mean_absolute_error: 0.0198 - val_loss: 0.0558 - val_root_mean_squared_error: 0.0595 - val_mean_absolute_error: 0.0558\n",
            "Epoch 11/100\n",
            "274/274 [==============================] - ETA: 0s - loss: 0.0200 - root_mean_squared_error: 0.0261 - mean_absolute_error: 0.0200\n",
            "Epoch 11: val_loss did not improve from 0.01519\n",
            "274/274 [==============================] - 15s 55ms/step - loss: 0.0200 - root_mean_squared_error: 0.0261 - mean_absolute_error: 0.0200 - val_loss: 0.0187 - val_root_mean_squared_error: 0.0235 - val_mean_absolute_error: 0.0187\n",
            "Epoch 12/100\n",
            "273/274 [============================>.] - ETA: 0s - loss: 0.0122 - root_mean_squared_error: 0.0163 - mean_absolute_error: 0.0122\n",
            "Epoch 12: val_loss improved from 0.01519 to 0.01314, saving model to best_model.h5\n",
            "274/274 [==============================] - 15s 55ms/step - loss: 0.0122 - root_mean_squared_error: 0.0163 - mean_absolute_error: 0.0122 - val_loss: 0.0131 - val_root_mean_squared_error: 0.0166 - val_mean_absolute_error: 0.0131\n",
            "Epoch 13/100\n",
            "273/274 [============================>.] - ETA: 0s - loss: 0.0173 - root_mean_squared_error: 0.0221 - mean_absolute_error: 0.0173\n",
            "Epoch 13: val_loss did not improve from 0.01314\n",
            "274/274 [==============================] - 15s 56ms/step - loss: 0.0173 - root_mean_squared_error: 0.0220 - mean_absolute_error: 0.0173 - val_loss: 0.0333 - val_root_mean_squared_error: 0.0360 - val_mean_absolute_error: 0.0333\n",
            "Epoch 14/100\n",
            "273/274 [============================>.] - ETA: 0s - loss: 0.0152 - root_mean_squared_error: 0.0198 - mean_absolute_error: 0.0152\n",
            "Epoch 14: val_loss improved from 0.01314 to 0.01126, saving model to best_model.h5\n",
            "274/274 [==============================] - 15s 55ms/step - loss: 0.0152 - root_mean_squared_error: 0.0198 - mean_absolute_error: 0.0152 - val_loss: 0.0113 - val_root_mean_squared_error: 0.0141 - val_mean_absolute_error: 0.0113\n",
            "Epoch 15/100\n",
            "274/274 [==============================] - ETA: 0s - loss: 0.0111 - root_mean_squared_error: 0.0148 - mean_absolute_error: 0.0111\n",
            "Epoch 15: val_loss did not improve from 0.01126\n",
            "274/274 [==============================] - 15s 55ms/step - loss: 0.0111 - root_mean_squared_error: 0.0148 - mean_absolute_error: 0.0111 - val_loss: 0.0122 - val_root_mean_squared_error: 0.0152 - val_mean_absolute_error: 0.0122\n",
            "Epoch 16/100\n",
            "274/274 [==============================] - ETA: 0s - loss: 0.0205 - root_mean_squared_error: 0.0290 - mean_absolute_error: 0.0205\n",
            "Epoch 16: val_loss improved from 0.01126 to 0.01037, saving model to best_model.h5\n",
            "274/274 [==============================] - 15s 55ms/step - loss: 0.0205 - root_mean_squared_error: 0.0290 - mean_absolute_error: 0.0205 - val_loss: 0.0104 - val_root_mean_squared_error: 0.0137 - val_mean_absolute_error: 0.0104\n",
            "Epoch 17/100\n",
            "274/274 [==============================] - ETA: 0s - loss: 0.0135 - root_mean_squared_error: 0.0175 - mean_absolute_error: 0.0135\n",
            "Epoch 17: val_loss improved from 0.01037 to 0.00842, saving model to best_model.h5\n",
            "274/274 [==============================] - 15s 55ms/step - loss: 0.0135 - root_mean_squared_error: 0.0175 - mean_absolute_error: 0.0135 - val_loss: 0.0084 - val_root_mean_squared_error: 0.0119 - val_mean_absolute_error: 0.0084\n",
            "Epoch 18/100\n",
            "274/274 [==============================] - ETA: 0s - loss: 0.0126 - root_mean_squared_error: 0.0165 - mean_absolute_error: 0.0126\n",
            "Epoch 18: val_loss did not improve from 0.00842\n",
            "274/274 [==============================] - 15s 55ms/step - loss: 0.0126 - root_mean_squared_error: 0.0165 - mean_absolute_error: 0.0126 - val_loss: 0.0133 - val_root_mean_squared_error: 0.0158 - val_mean_absolute_error: 0.0133\n",
            "Epoch 19/100\n",
            "274/274 [==============================] - ETA: 0s - loss: 0.0129 - root_mean_squared_error: 0.0167 - mean_absolute_error: 0.0129\n",
            "Epoch 19: val_loss improved from 0.00842 to 0.00764, saving model to best_model.h5\n",
            "274/274 [==============================] - 15s 55ms/step - loss: 0.0129 - root_mean_squared_error: 0.0167 - mean_absolute_error: 0.0129 - val_loss: 0.0076 - val_root_mean_squared_error: 0.0106 - val_mean_absolute_error: 0.0076\n",
            "Epoch 20/100\n",
            "273/274 [============================>.] - ETA: 0s - loss: 0.0135 - root_mean_squared_error: 0.0177 - mean_absolute_error: 0.0135\n",
            "Epoch 20: val_loss did not improve from 0.00764\n",
            "274/274 [==============================] - 15s 55ms/step - loss: 0.0135 - root_mean_squared_error: 0.0177 - mean_absolute_error: 0.0135 - val_loss: 0.0105 - val_root_mean_squared_error: 0.0129 - val_mean_absolute_error: 0.0105\n",
            "Epoch 21/100\n",
            "274/274 [==============================] - ETA: 0s - loss: 0.0117 - root_mean_squared_error: 0.0153 - mean_absolute_error: 0.0117\n",
            "Epoch 21: val_loss improved from 0.00764 to 0.00719, saving model to best_model.h5\n",
            "274/274 [==============================] - 15s 55ms/step - loss: 0.0117 - root_mean_squared_error: 0.0153 - mean_absolute_error: 0.0117 - val_loss: 0.0072 - val_root_mean_squared_error: 0.0101 - val_mean_absolute_error: 0.0072\n",
            "Epoch 22/100\n",
            "273/274 [============================>.] - ETA: 0s - loss: 0.0132 - root_mean_squared_error: 0.0168 - mean_absolute_error: 0.0132\n",
            "Epoch 22: val_loss did not improve from 0.00719\n",
            "274/274 [==============================] - 15s 54ms/step - loss: 0.0132 - root_mean_squared_error: 0.0169 - mean_absolute_error: 0.0132 - val_loss: 0.0142 - val_root_mean_squared_error: 0.0165 - val_mean_absolute_error: 0.0142\n",
            "Epoch 23/100\n",
            "274/274 [==============================] - ETA: 0s - loss: 0.0118 - root_mean_squared_error: 0.0155 - mean_absolute_error: 0.0118\n",
            "Epoch 23: val_loss did not improve from 0.00719\n",
            "274/274 [==============================] - 15s 54ms/step - loss: 0.0118 - root_mean_squared_error: 0.0155 - mean_absolute_error: 0.0118 - val_loss: 0.0076 - val_root_mean_squared_error: 0.0100 - val_mean_absolute_error: 0.0076\n",
            "Epoch 24/100\n",
            "273/274 [============================>.] - ETA: 0s - loss: 0.0102 - root_mean_squared_error: 0.0133 - mean_absolute_error: 0.0102\n",
            "Epoch 24: val_loss did not improve from 0.00719\n",
            "274/274 [==============================] - 15s 54ms/step - loss: 0.0102 - root_mean_squared_error: 0.0133 - mean_absolute_error: 0.0102 - val_loss: 0.0091 - val_root_mean_squared_error: 0.0118 - val_mean_absolute_error: 0.0091\n",
            "Epoch 25/100\n",
            "273/274 [============================>.] - ETA: 0s - loss: 0.0113 - root_mean_squared_error: 0.0146 - mean_absolute_error: 0.0113\n",
            "Epoch 25: val_loss did not improve from 0.00719\n",
            "274/274 [==============================] - 15s 54ms/step - loss: 0.0113 - root_mean_squared_error: 0.0146 - mean_absolute_error: 0.0113 - val_loss: 0.0074 - val_root_mean_squared_error: 0.0097 - val_mean_absolute_error: 0.0074\n",
            "Epoch 26/100\n",
            "273/274 [============================>.] - ETA: 0s - loss: 0.0108 - root_mean_squared_error: 0.0140 - mean_absolute_error: 0.0108\n",
            "Epoch 26: val_loss did not improve from 0.00719\n",
            "274/274 [==============================] - 15s 54ms/step - loss: 0.0108 - root_mean_squared_error: 0.0140 - mean_absolute_error: 0.0108 - val_loss: 0.0142 - val_root_mean_squared_error: 0.0171 - val_mean_absolute_error: 0.0142\n",
            "Epoch 27/100\n",
            "273/274 [============================>.] - ETA: 0s - loss: 0.0107 - root_mean_squared_error: 0.0138 - mean_absolute_error: 0.0107\n",
            "Epoch 27: val_loss did not improve from 0.00719\n",
            "274/274 [==============================] - 15s 54ms/step - loss: 0.0107 - root_mean_squared_error: 0.0138 - mean_absolute_error: 0.0107 - val_loss: 0.0072 - val_root_mean_squared_error: 0.0092 - val_mean_absolute_error: 0.0072\n",
            "Epoch 28/100\n",
            "274/274 [==============================] - ETA: 0s - loss: 0.0088 - root_mean_squared_error: 0.0115 - mean_absolute_error: 0.0088\n",
            "Epoch 28: val_loss did not improve from 0.00719\n",
            "274/274 [==============================] - 15s 55ms/step - loss: 0.0088 - root_mean_squared_error: 0.0115 - mean_absolute_error: 0.0088 - val_loss: 0.0102 - val_root_mean_squared_error: 0.0120 - val_mean_absolute_error: 0.0102\n",
            "Epoch 29/100\n",
            "273/274 [============================>.] - ETA: 0s - loss: 0.0095 - root_mean_squared_error: 0.0124 - mean_absolute_error: 0.0095\n",
            "Epoch 29: val_loss improved from 0.00719 to 0.00612, saving model to best_model.h5\n",
            "274/274 [==============================] - 15s 55ms/step - loss: 0.0095 - root_mean_squared_error: 0.0124 - mean_absolute_error: 0.0095 - val_loss: 0.0061 - val_root_mean_squared_error: 0.0083 - val_mean_absolute_error: 0.0061\n",
            "Epoch 30/100\n",
            "273/274 [============================>.] - ETA: 0s - loss: 0.0138 - root_mean_squared_error: 0.0176 - mean_absolute_error: 0.0138\n",
            "Epoch 30: val_loss did not improve from 0.00612\n",
            "274/274 [==============================] - 15s 55ms/step - loss: 0.0138 - root_mean_squared_error: 0.0176 - mean_absolute_error: 0.0138 - val_loss: 0.0082 - val_root_mean_squared_error: 0.0111 - val_mean_absolute_error: 0.0082\n",
            "Epoch 31/100\n",
            "274/274 [==============================] - ETA: 0s - loss: 0.0098 - root_mean_squared_error: 0.0130 - mean_absolute_error: 0.0098\n",
            "Epoch 31: val_loss did not improve from 0.00612\n",
            "274/274 [==============================] - 15s 55ms/step - loss: 0.0098 - root_mean_squared_error: 0.0130 - mean_absolute_error: 0.0098 - val_loss: 0.0069 - val_root_mean_squared_error: 0.0091 - val_mean_absolute_error: 0.0069\n",
            "Epoch 32/100\n",
            "274/274 [==============================] - ETA: 0s - loss: 0.0120 - root_mean_squared_error: 0.0163 - mean_absolute_error: 0.0120\n",
            "Epoch 32: val_loss did not improve from 0.00612\n",
            "274/274 [==============================] - 15s 54ms/step - loss: 0.0120 - root_mean_squared_error: 0.0163 - mean_absolute_error: 0.0120 - val_loss: 0.0232 - val_root_mean_squared_error: 0.0248 - val_mean_absolute_error: 0.0232\n",
            "Epoch 33/100\n",
            "274/274 [==============================] - ETA: 0s - loss: 0.0134 - root_mean_squared_error: 0.0169 - mean_absolute_error: 0.0134\n",
            "Epoch 33: val_loss did not improve from 0.00612\n",
            "274/274 [==============================] - 15s 54ms/step - loss: 0.0134 - root_mean_squared_error: 0.0169 - mean_absolute_error: 0.0134 - val_loss: 0.0216 - val_root_mean_squared_error: 0.0232 - val_mean_absolute_error: 0.0216\n",
            "Epoch 34/100\n",
            "273/274 [============================>.] - ETA: 0s - loss: 0.0102 - root_mean_squared_error: 0.0130 - mean_absolute_error: 0.0102\n",
            "Epoch 34: val_loss did not improve from 0.00612\n",
            "274/274 [==============================] - 15s 55ms/step - loss: 0.0102 - root_mean_squared_error: 0.0130 - mean_absolute_error: 0.0102 - val_loss: 0.0110 - val_root_mean_squared_error: 0.0131 - val_mean_absolute_error: 0.0110\n",
            "Epoch 35/100\n",
            "273/274 [============================>.] - ETA: 0s - loss: 0.0082 - root_mean_squared_error: 0.0107 - mean_absolute_error: 0.0082\n",
            "Epoch 35: val_loss improved from 0.00612 to 0.00609, saving model to best_model.h5\n",
            "274/274 [==============================] - 15s 55ms/step - loss: 0.0082 - root_mean_squared_error: 0.0107 - mean_absolute_error: 0.0082 - val_loss: 0.0061 - val_root_mean_squared_error: 0.0082 - val_mean_absolute_error: 0.0061\n",
            "Epoch 36/100\n",
            "273/274 [============================>.] - ETA: 0s - loss: 0.0077 - root_mean_squared_error: 0.0101 - mean_absolute_error: 0.0077\n",
            "Epoch 36: val_loss improved from 0.00609 to 0.00578, saving model to best_model.h5\n",
            "274/274 [==============================] - 15s 54ms/step - loss: 0.0077 - root_mean_squared_error: 0.0101 - mean_absolute_error: 0.0077 - val_loss: 0.0058 - val_root_mean_squared_error: 0.0076 - val_mean_absolute_error: 0.0058\n",
            "Epoch 37/100\n",
            "273/274 [============================>.] - ETA: 0s - loss: 0.0104 - root_mean_squared_error: 0.0134 - mean_absolute_error: 0.0104\n",
            "Epoch 37: val_loss did not improve from 0.00578\n",
            "274/274 [==============================] - 15s 55ms/step - loss: 0.0104 - root_mean_squared_error: 0.0134 - mean_absolute_error: 0.0104 - val_loss: 0.0123 - val_root_mean_squared_error: 0.0138 - val_mean_absolute_error: 0.0123\n",
            "Epoch 38/100\n",
            "274/274 [==============================] - ETA: 0s - loss: 0.0102 - root_mean_squared_error: 0.0133 - mean_absolute_error: 0.0102\n",
            "Epoch 38: val_loss did not improve from 0.00578\n",
            "274/274 [==============================] - 15s 55ms/step - loss: 0.0102 - root_mean_squared_error: 0.0133 - mean_absolute_error: 0.0102 - val_loss: 0.0255 - val_root_mean_squared_error: 0.0268 - val_mean_absolute_error: 0.0255\n",
            "Epoch 39/100\n",
            "274/274 [==============================] - ETA: 0s - loss: 0.0082 - root_mean_squared_error: 0.0107 - mean_absolute_error: 0.0082\n",
            "Epoch 39: val_loss did not improve from 0.00578\n",
            "274/274 [==============================] - 15s 54ms/step - loss: 0.0082 - root_mean_squared_error: 0.0107 - mean_absolute_error: 0.0082 - val_loss: 0.0087 - val_root_mean_squared_error: 0.0105 - val_mean_absolute_error: 0.0087\n",
            "Epoch 40/100\n",
            "273/274 [============================>.] - ETA: 0s - loss: 0.0104 - root_mean_squared_error: 0.0135 - mean_absolute_error: 0.0104\n",
            "Epoch 40: val_loss did not improve from 0.00578\n",
            "274/274 [==============================] - 15s 54ms/step - loss: 0.0105 - root_mean_squared_error: 0.0135 - mean_absolute_error: 0.0105 - val_loss: 0.0222 - val_root_mean_squared_error: 0.0240 - val_mean_absolute_error: 0.0222\n",
            "Epoch 41/100\n",
            "274/274 [==============================] - ETA: 0s - loss: 0.0075 - root_mean_squared_error: 0.0099 - mean_absolute_error: 0.0075\n",
            "Epoch 41: val_loss improved from 0.00578 to 0.00548, saving model to best_model.h5\n",
            "274/274 [==============================] - 15s 53ms/step - loss: 0.0075 - root_mean_squared_error: 0.0099 - mean_absolute_error: 0.0075 - val_loss: 0.0055 - val_root_mean_squared_error: 0.0073 - val_mean_absolute_error: 0.0055\n",
            "Epoch 42/100\n",
            "274/274 [==============================] - ETA: 0s - loss: 0.0101 - root_mean_squared_error: 0.0134 - mean_absolute_error: 0.0101\n",
            "Epoch 42: val_loss did not improve from 0.00548\n",
            "274/274 [==============================] - 15s 53ms/step - loss: 0.0101 - root_mean_squared_error: 0.0134 - mean_absolute_error: 0.0101 - val_loss: 0.0099 - val_root_mean_squared_error: 0.0120 - val_mean_absolute_error: 0.0099\n",
            "Epoch 43/100\n",
            "273/274 [============================>.] - ETA: 0s - loss: 0.0084 - root_mean_squared_error: 0.0109 - mean_absolute_error: 0.0084\n",
            "Epoch 43: val_loss did not improve from 0.00548\n",
            "274/274 [==============================] - 15s 53ms/step - loss: 0.0084 - root_mean_squared_error: 0.0109 - mean_absolute_error: 0.0084 - val_loss: 0.0110 - val_root_mean_squared_error: 0.0125 - val_mean_absolute_error: 0.0110\n",
            "Epoch 44/100\n",
            "273/274 [============================>.] - ETA: 0s - loss: 0.0085 - root_mean_squared_error: 0.0112 - mean_absolute_error: 0.0085\n",
            "Epoch 44: val_loss did not improve from 0.00548\n",
            "274/274 [==============================] - 15s 53ms/step - loss: 0.0085 - root_mean_squared_error: 0.0112 - mean_absolute_error: 0.0085 - val_loss: 0.0060 - val_root_mean_squared_error: 0.0074 - val_mean_absolute_error: 0.0060\n",
            "Epoch 45/100\n",
            "273/274 [============================>.] - ETA: 0s - loss: 0.0070 - root_mean_squared_error: 0.0091 - mean_absolute_error: 0.0070\n",
            "Epoch 45: val_loss did not improve from 0.00548\n",
            "274/274 [==============================] - 15s 54ms/step - loss: 0.0070 - root_mean_squared_error: 0.0091 - mean_absolute_error: 0.0070 - val_loss: 0.0096 - val_root_mean_squared_error: 0.0113 - val_mean_absolute_error: 0.0096\n",
            "Epoch 46/100\n",
            "274/274 [==============================] - ETA: 0s - loss: 0.0080 - root_mean_squared_error: 0.0105 - mean_absolute_error: 0.0080\n",
            "Epoch 46: val_loss did not improve from 0.00548\n",
            "274/274 [==============================] - 15s 54ms/step - loss: 0.0080 - root_mean_squared_error: 0.0105 - mean_absolute_error: 0.0080 - val_loss: 0.0070 - val_root_mean_squared_error: 0.0087 - val_mean_absolute_error: 0.0070\n",
            "Epoch 47/100\n",
            "273/274 [============================>.] - ETA: 0s - loss: 0.0088 - root_mean_squared_error: 0.0113 - mean_absolute_error: 0.0088\n",
            "Epoch 47: val_loss did not improve from 0.00548\n",
            "274/274 [==============================] - 15s 54ms/step - loss: 0.0088 - root_mean_squared_error: 0.0113 - mean_absolute_error: 0.0088 - val_loss: 0.0110 - val_root_mean_squared_error: 0.0127 - val_mean_absolute_error: 0.0110\n",
            "Epoch 48/100\n",
            "273/274 [============================>.] - ETA: 0s - loss: 0.0074 - root_mean_squared_error: 0.0098 - mean_absolute_error: 0.0074\n",
            "Epoch 48: val_loss did not improve from 0.00548\n",
            "274/274 [==============================] - 15s 54ms/step - loss: 0.0075 - root_mean_squared_error: 0.0099 - mean_absolute_error: 0.0075 - val_loss: 0.0070 - val_root_mean_squared_error: 0.0093 - val_mean_absolute_error: 0.0070\n",
            "Epoch 49/100\n",
            "274/274 [==============================] - ETA: 0s - loss: 0.0074 - root_mean_squared_error: 0.0098 - mean_absolute_error: 0.0074\n",
            "Epoch 49: val_loss did not improve from 0.00548\n",
            "274/274 [==============================] - 15s 53ms/step - loss: 0.0074 - root_mean_squared_error: 0.0098 - mean_absolute_error: 0.0074 - val_loss: 0.0070 - val_root_mean_squared_error: 0.0087 - val_mean_absolute_error: 0.0070\n",
            "Epoch 50/100\n",
            "274/274 [==============================] - ETA: 0s - loss: 0.0089 - root_mean_squared_error: 0.0112 - mean_absolute_error: 0.0089\n",
            "Epoch 50: val_loss improved from 0.00548 to 0.00503, saving model to best_model.h5\n",
            "274/274 [==============================] - 15s 54ms/step - loss: 0.0089 - root_mean_squared_error: 0.0112 - mean_absolute_error: 0.0089 - val_loss: 0.0050 - val_root_mean_squared_error: 0.0065 - val_mean_absolute_error: 0.0050\n",
            "Epoch 51/100\n",
            "273/274 [============================>.] - ETA: 0s - loss: 0.0077 - root_mean_squared_error: 0.0100 - mean_absolute_error: 0.0077\n",
            "Epoch 51: val_loss did not improve from 0.00503\n",
            "274/274 [==============================] - 15s 53ms/step - loss: 0.0077 - root_mean_squared_error: 0.0100 - mean_absolute_error: 0.0077 - val_loss: 0.0074 - val_root_mean_squared_error: 0.0091 - val_mean_absolute_error: 0.0074\n",
            "Epoch 52/100\n",
            "273/274 [============================>.] - ETA: 0s - loss: 0.0069 - root_mean_squared_error: 0.0090 - mean_absolute_error: 0.0069\n",
            "Epoch 52: val_loss did not improve from 0.00503\n",
            "274/274 [==============================] - 15s 54ms/step - loss: 0.0069 - root_mean_squared_error: 0.0090 - mean_absolute_error: 0.0069 - val_loss: 0.0102 - val_root_mean_squared_error: 0.0114 - val_mean_absolute_error: 0.0102\n",
            "Epoch 53/100\n",
            "274/274 [==============================] - ETA: 0s - loss: 0.0072 - root_mean_squared_error: 0.0095 - mean_absolute_error: 0.0072\n",
            "Epoch 53: val_loss did not improve from 0.00503\n",
            "274/274 [==============================] - 15s 54ms/step - loss: 0.0072 - root_mean_squared_error: 0.0095 - mean_absolute_error: 0.0072 - val_loss: 0.0095 - val_root_mean_squared_error: 0.0112 - val_mean_absolute_error: 0.0095\n",
            "Epoch 54/100\n",
            "274/274 [==============================] - ETA: 0s - loss: 0.0070 - root_mean_squared_error: 0.0092 - mean_absolute_error: 0.0070\n",
            "Epoch 54: val_loss did not improve from 0.00503\n",
            "274/274 [==============================] - 15s 53ms/step - loss: 0.0070 - root_mean_squared_error: 0.0092 - mean_absolute_error: 0.0070 - val_loss: 0.0102 - val_root_mean_squared_error: 0.0115 - val_mean_absolute_error: 0.0102\n",
            "Epoch 55/100\n",
            "274/274 [==============================] - ETA: 0s - loss: 0.0062 - root_mean_squared_error: 0.0081 - mean_absolute_error: 0.0062\n",
            "Epoch 55: val_loss improved from 0.00503 to 0.00467, saving model to best_model.h5\n",
            "274/274 [==============================] - 15s 54ms/step - loss: 0.0062 - root_mean_squared_error: 0.0081 - mean_absolute_error: 0.0062 - val_loss: 0.0047 - val_root_mean_squared_error: 0.0061 - val_mean_absolute_error: 0.0047\n",
            "Epoch 56/100\n",
            "274/274 [==============================] - ETA: 0s - loss: 0.0066 - root_mean_squared_error: 0.0087 - mean_absolute_error: 0.0066\n",
            "Epoch 56: val_loss did not improve from 0.00467\n",
            "274/274 [==============================] - 15s 53ms/step - loss: 0.0066 - root_mean_squared_error: 0.0087 - mean_absolute_error: 0.0066 - val_loss: 0.0090 - val_root_mean_squared_error: 0.0108 - val_mean_absolute_error: 0.0090\n",
            "Epoch 57/100\n",
            "273/274 [============================>.] - ETA: 0s - loss: 0.0072 - root_mean_squared_error: 0.0096 - mean_absolute_error: 0.0072\n",
            "Epoch 57: val_loss did not improve from 0.00467\n",
            "274/274 [==============================] - 15s 54ms/step - loss: 0.0072 - root_mean_squared_error: 0.0097 - mean_absolute_error: 0.0072 - val_loss: 0.0111 - val_root_mean_squared_error: 0.0153 - val_mean_absolute_error: 0.0111\n",
            "Epoch 58/100\n",
            "274/274 [==============================] - ETA: 0s - loss: 0.0084 - root_mean_squared_error: 0.0109 - mean_absolute_error: 0.0084\n",
            "Epoch 58: val_loss did not improve from 0.00467\n",
            "274/274 [==============================] - 15s 54ms/step - loss: 0.0084 - root_mean_squared_error: 0.0109 - mean_absolute_error: 0.0084 - val_loss: 0.0117 - val_root_mean_squared_error: 0.0132 - val_mean_absolute_error: 0.0117\n",
            "Epoch 59/100\n",
            "273/274 [============================>.] - ETA: 0s - loss: 0.0077 - root_mean_squared_error: 0.0102 - mean_absolute_error: 0.0077\n",
            "Epoch 59: val_loss did not improve from 0.00467\n",
            "274/274 [==============================] - 15s 54ms/step - loss: 0.0077 - root_mean_squared_error: 0.0102 - mean_absolute_error: 0.0077 - val_loss: 0.0059 - val_root_mean_squared_error: 0.0076 - val_mean_absolute_error: 0.0059\n",
            "Epoch 60/100\n",
            "273/274 [============================>.] - ETA: 0s - loss: 0.0065 - root_mean_squared_error: 0.0086 - mean_absolute_error: 0.0065\n",
            "Epoch 60: val_loss improved from 0.00467 to 0.00456, saving model to best_model.h5\n",
            "274/274 [==============================] - 14s 53ms/step - loss: 0.0065 - root_mean_squared_error: 0.0086 - mean_absolute_error: 0.0065 - val_loss: 0.0046 - val_root_mean_squared_error: 0.0060 - val_mean_absolute_error: 0.0046\n",
            "Epoch 61/100\n",
            "273/274 [============================>.] - ETA: 0s - loss: 0.0070 - root_mean_squared_error: 0.0092 - mean_absolute_error: 0.0070\n",
            "Epoch 61: val_loss did not improve from 0.00456\n",
            "274/274 [==============================] - 14s 53ms/step - loss: 0.0070 - root_mean_squared_error: 0.0092 - mean_absolute_error: 0.0070 - val_loss: 0.0057 - val_root_mean_squared_error: 0.0073 - val_mean_absolute_error: 0.0057\n",
            "Epoch 62/100\n",
            "273/274 [============================>.] - ETA: 0s - loss: 0.0060 - root_mean_squared_error: 0.0078 - mean_absolute_error: 0.0060\n",
            "Epoch 62: val_loss did not improve from 0.00456\n",
            "274/274 [==============================] - 15s 53ms/step - loss: 0.0060 - root_mean_squared_error: 0.0078 - mean_absolute_error: 0.0060 - val_loss: 0.0158 - val_root_mean_squared_error: 0.0166 - val_mean_absolute_error: 0.0158\n",
            "Epoch 63/100\n",
            "274/274 [==============================] - ETA: 0s - loss: 0.0076 - root_mean_squared_error: 0.0099 - mean_absolute_error: 0.0076\n",
            "Epoch 63: val_loss did not improve from 0.00456\n",
            "274/274 [==============================] - 15s 53ms/step - loss: 0.0076 - root_mean_squared_error: 0.0099 - mean_absolute_error: 0.0076 - val_loss: 0.0058 - val_root_mean_squared_error: 0.0070 - val_mean_absolute_error: 0.0058\n",
            "Epoch 64/100\n",
            "274/274 [==============================] - ETA: 0s - loss: 0.0056 - root_mean_squared_error: 0.0074 - mean_absolute_error: 0.0056\n",
            "Epoch 64: val_loss did not improve from 0.00456\n",
            "274/274 [==============================] - 15s 54ms/step - loss: 0.0056 - root_mean_squared_error: 0.0074 - mean_absolute_error: 0.0056 - val_loss: 0.0112 - val_root_mean_squared_error: 0.0124 - val_mean_absolute_error: 0.0112\n",
            "Epoch 65/100\n",
            "273/274 [============================>.] - ETA: 0s - loss: 0.0057 - root_mean_squared_error: 0.0075 - mean_absolute_error: 0.0057\n",
            "Epoch 65: val_loss did not improve from 0.00456\n",
            "274/274 [==============================] - 15s 54ms/step - loss: 0.0057 - root_mean_squared_error: 0.0075 - mean_absolute_error: 0.0057 - val_loss: 0.0066 - val_root_mean_squared_error: 0.0080 - val_mean_absolute_error: 0.0066\n",
            "Epoch 66/100\n",
            "273/274 [============================>.] - ETA: 0s - loss: 0.0064 - root_mean_squared_error: 0.0084 - mean_absolute_error: 0.0064\n",
            "Epoch 66: val_loss did not improve from 0.00456\n",
            "274/274 [==============================] - 15s 54ms/step - loss: 0.0064 - root_mean_squared_error: 0.0084 - mean_absolute_error: 0.0064 - val_loss: 0.0048 - val_root_mean_squared_error: 0.0061 - val_mean_absolute_error: 0.0048\n",
            "Epoch 67/100\n",
            "273/274 [============================>.] - ETA: 0s - loss: 0.0078 - root_mean_squared_error: 0.0106 - mean_absolute_error: 0.0078\n",
            "Epoch 67: val_loss did not improve from 0.00456\n",
            "274/274 [==============================] - 15s 54ms/step - loss: 0.0078 - root_mean_squared_error: 0.0106 - mean_absolute_error: 0.0078 - val_loss: 0.0061 - val_root_mean_squared_error: 0.0076 - val_mean_absolute_error: 0.0061\n",
            "Epoch 68/100\n",
            "273/274 [============================>.] - ETA: 0s - loss: 0.0059 - root_mean_squared_error: 0.0077 - mean_absolute_error: 0.0059\n",
            "Epoch 68: val_loss did not improve from 0.00456\n",
            "274/274 [==============================] - 15s 54ms/step - loss: 0.0059 - root_mean_squared_error: 0.0077 - mean_absolute_error: 0.0059 - val_loss: 0.0056 - val_root_mean_squared_error: 0.0068 - val_mean_absolute_error: 0.0056\n",
            "Epoch 69/100\n",
            "273/274 [============================>.] - ETA: 0s - loss: 0.0082 - root_mean_squared_error: 0.0106 - mean_absolute_error: 0.0082\n",
            "Epoch 69: val_loss did not improve from 0.00456\n",
            "274/274 [==============================] - 15s 53ms/step - loss: 0.0082 - root_mean_squared_error: 0.0106 - mean_absolute_error: 0.0082 - val_loss: 0.0106 - val_root_mean_squared_error: 0.0124 - val_mean_absolute_error: 0.0106\n",
            "Epoch 70/100\n",
            "274/274 [==============================] - ETA: 0s - loss: 0.0066 - root_mean_squared_error: 0.0087 - mean_absolute_error: 0.0066\n",
            "Epoch 70: val_loss did not improve from 0.00456\n",
            "274/274 [==============================] - 14s 52ms/step - loss: 0.0066 - root_mean_squared_error: 0.0087 - mean_absolute_error: 0.0066 - val_loss: 0.0047 - val_root_mean_squared_error: 0.0060 - val_mean_absolute_error: 0.0047\n",
            "Epoch 70: early stopping\n"
          ]
        }
      ],
      "source": [
        "# Train the model\n",
        "history = model.fit(\n",
        "    train_data, train_labels,\n",
        "    epochs=100,\n",
        "    batch_size=256,\n",
        "    validation_data=(val_data, val_labels),\n",
        "    callbacks=[checkpoint, early_stopping],\n",
        "    verbose=1\n",
        ")"
      ]
    },
    {
      "cell_type": "code",
      "source": [
        "tf.keras.utils.plot_model(model, to_file='model.png', show_shapes=True, show_layer_names=True)"
      ],
      "metadata": {
        "colab": {
          "base_uri": "https://localhost:8080/"
        },
        "id": "sHuMIcbkMeCP",
        "outputId": "3ff482ce-7943-41b7-dd6c-26a3bad18780"
      },
      "execution_count": null,
      "outputs": [
        {
          "output_type": "stream",
          "name": "stdout",
          "text": [
            "You must install pydot (`pip install pydot`) and install graphviz (see instructions at https://graphviz.gitlab.io/download/) for plot_model to work.\n"
          ]
        }
      ]
    },
    {
      "cell_type": "code",
      "source": [
        "y_hat = model.predict(val_data)"
      ],
      "metadata": {
        "colab": {
          "base_uri": "https://localhost:8080/"
        },
        "id": "fNLfOJ4JNqDh",
        "outputId": "04e2f7f7-27f8-46f6-a4a5-08706287c3ab"
      },
      "execution_count": null,
      "outputs": [
        {
          "output_type": "stream",
          "name": "stdout",
          "text": [
            "547/547 [==============================] - 5s 9ms/step\n"
          ]
        }
      ]
    },
    {
      "cell_type": "code",
      "source": [
        "y = val_labels"
      ],
      "metadata": {
        "id": "6rt7Y-vvNwDn"
      },
      "execution_count": null,
      "outputs": []
    },
    {
      "cell_type": "code",
      "source": [
        "y_hat.shape"
      ],
      "metadata": {
        "colab": {
          "base_uri": "https://localhost:8080/"
        },
        "id": "d6Zq22_MOAtu",
        "outputId": "4361ccb6-ebff-4765-a582-d0e44a1ad7cd"
      },
      "execution_count": null,
      "outputs": [
        {
          "output_type": "execute_result",
          "data": {
            "text/plain": [
              "(17498, 1)"
            ]
          },
          "metadata": {},
          "execution_count": 22
        }
      ]
    },
    {
      "cell_type": "code",
      "source": [
        "y.shape"
      ],
      "metadata": {
        "colab": {
          "base_uri": "https://localhost:8080/"
        },
        "id": "qXS3vRwROD4F",
        "outputId": "13a25e89-4fe7-4f8b-e545-24a3269e768b"
      },
      "execution_count": null,
      "outputs": [
        {
          "output_type": "execute_result",
          "data": {
            "text/plain": [
              "(17498,)"
            ]
          },
          "metadata": {},
          "execution_count": 23
        }
      ]
    },
    {
      "cell_type": "code",
      "source": [
        "from sklearn.metrics import mean_squared_error\n",
        "import numpy as np\n",
        "\n",
        "# Calculate RMSE\n",
        "rmse = np.sqrt(mean_squared_error(y,y_hat))\n",
        "print(\"RMSE:\", rmse)"
      ],
      "metadata": {
        "colab": {
          "base_uri": "https://localhost:8080/"
        },
        "id": "lwvMQl-QOG2J",
        "outputId": "73f8679a-45e4-4f47-95e4-b55d0eccfc27"
      },
      "execution_count": null,
      "outputs": [
        {
          "output_type": "stream",
          "name": "stdout",
          "text": [
            "RMSE: 0.005992950827680289\n"
          ]
        }
      ]
    },
    {
      "cell_type": "code",
      "source": [
        "from sklearn.metrics import mean_absolute_error\n",
        "import numpy as np\n",
        "\n",
        "# Calculate MAE\n",
        "mae = mean_absolute_error(y,y_hat)\n",
        "print(\"MAE:\", f'{mae*100}%')"
      ],
      "metadata": {
        "colab": {
          "base_uri": "https://localhost:8080/"
        },
        "id": "z48aMx0iOxOE",
        "outputId": "34d7b3ca-c1bc-474c-8c93-e8873595bff7"
      },
      "execution_count": null,
      "outputs": [
        {
          "output_type": "stream",
          "name": "stdout",
          "text": [
            "MAE: 0.4698970683405688%\n"
          ]
        }
      ]
    },
    {
      "cell_type": "code",
      "source": [
        "y_tarin = model.predict(train_data)"
      ],
      "metadata": {
        "colab": {
          "base_uri": "https://localhost:8080/"
        },
        "id": "gOOPVJ9i8bcB",
        "outputId": "b23a125f-b870-4259-fda5-b336c0bdd4dc"
      },
      "execution_count": null,
      "outputs": [
        {
          "output_type": "stream",
          "name": "stdout",
          "text": [
            "2188/2188 [==============================] - 21s 9ms/step\n"
          ]
        }
      ]
    },
    {
      "cell_type": "code",
      "source": [
        "yy = train_labels"
      ],
      "metadata": {
        "id": "Yz2QR5iM8f8n"
      },
      "execution_count": null,
      "outputs": []
    },
    {
      "cell_type": "code",
      "source": [
        "from sklearn.metrics import mean_squared_error\n",
        "import numpy as np\n",
        "\n",
        "# Calculate RMSE\n",
        "rmse = np.sqrt(mean_squared_error(yy,y_tarin))\n",
        "print(\"RMSE:\", rmse)"
      ],
      "metadata": {
        "colab": {
          "base_uri": "https://localhost:8080/"
        },
        "id": "ebKPy8QW8li1",
        "outputId": "5f697ca7-b097-47b0-d9cb-3d507aa8290a"
      },
      "execution_count": null,
      "outputs": [
        {
          "output_type": "stream",
          "name": "stdout",
          "text": [
            "RMSE: 0.006399890646223248\n"
          ]
        }
      ]
    },
    {
      "cell_type": "code",
      "source": [
        "from sklearn.metrics import mean_absolute_error\n",
        "import numpy as np\n",
        "\n",
        "# Calculate MAE\n",
        "mae = mean_absolute_error(yy,y_tarin)\n",
        "print(\"MAE:\", f'{mae*100}%')"
      ],
      "metadata": {
        "colab": {
          "base_uri": "https://localhost:8080/"
        },
        "id": "cP6chSW18uDA",
        "outputId": "8d120875-9db2-4597-b90e-2465e5a2986d"
      },
      "execution_count": null,
      "outputs": [
        {
          "output_type": "stream",
          "name": "stdout",
          "text": [
            "MAE: 0.6843240570734159%\n"
          ]
        }
      ]
    },
    {
      "cell_type": "code",
      "source": [
        "y"
      ],
      "metadata": {
        "colab": {
          "base_uri": "https://localhost:8080/"
        },
        "id": "tTmuhtAeBb83",
        "outputId": "00eef4b6-2717-461a-aa88-abc0c05a94a8"
      },
      "execution_count": null,
      "outputs": [
        {
          "output_type": "execute_result",
          "data": {
            "text/plain": [
              "array([0.89484209, 0.93383164, 0.81389065, ..., 0.89583516, 0.95256436,\n",
              "       0.87404809])"
            ]
          },
          "metadata": {},
          "execution_count": 29
        }
      ]
    },
    {
      "cell_type": "code",
      "source": [
        "y_hat"
      ],
      "metadata": {
        "id": "Lil4lnGqBg2-",
        "outputId": "3efa0fc6-44f6-49c8-d7f6-462a696b3cf5",
        "colab": {
          "base_uri": "https://localhost:8080/"
        }
      },
      "execution_count": null,
      "outputs": [
        {
          "output_type": "execute_result",
          "data": {
            "text/plain": [
              "array([[0.8957976 ],\n",
              "       [0.9349352 ],\n",
              "       [0.81530136],\n",
              "       ...,\n",
              "       [0.8866178 ],\n",
              "       [0.9483119 ],\n",
              "       [0.87936395]], dtype=float32)"
            ]
          },
          "metadata": {},
          "execution_count": 30
        }
      ]
    },
    {
      "cell_type": "code",
      "source": [
        "import numpy as np\n",
        "import matplotlib.pyplot as plt\n",
        "\n",
        "# Assuming you have the trained model named 'battery_net' and testData available\n",
        "\n",
        "# Use the trained model to predict the remaining cycle life for testData\n",
        "y_pred_test = model.predict(val_data) * 2000\n",
        "\n",
        "# Rescale the testRulData to the original RUL range\n",
        "test_rul_scaled = val_labels * 2000\n",
        "\n",
        "# Compare the actual cycle life with the predicted cycle life using a scatter plot\n",
        "plt.figure()\n",
        "plt.scatter(test_rul_scaled, y_pred_test)\n",
        "plt.plot([min(test_rul_scaled), max(test_rul_scaled)], [min(test_rul_scaled), max(test_rul_scaled)], color='red')\n",
        "plt.title(\"Predicted_SOH vs real_SOH\")\n",
        "plt.xlabel(\"real_SOH\")\n",
        "plt.ylabel(\"SOH_predicted\")\n",
        "plt.show()\n"
      ],
      "metadata": {
        "colab": {
          "base_uri": "https://localhost:8080/",
          "height": 490
        },
        "id": "VkQI5VQfPS5i",
        "outputId": "635c98d0-5d29-46a0-f96e-005da97ab7b2"
      },
      "execution_count": null,
      "outputs": [
        {
          "output_type": "stream",
          "name": "stdout",
          "text": [
            "547/547 [==============================] - 5s 9ms/step\n"
          ]
        },
        {
          "output_type": "display_data",
          "data": {
            "text/plain": [
              "<Figure size 640x480 with 1 Axes>"
            ],
            "image/png": "[encoded data removed]"
          },
          "metadata": {}
        }
      ]
    },
    {
      "cell_type": "code",
      "source": [
        "plt.plot(history.history['loss'])\n",
        "plt.plot(history.history['val_loss'],color = 'green')"
      ],
      "metadata": {
        "id": "zKSBmYoLPgx8",
        "colab": {
          "base_uri": "https://localhost:8080/",
          "height": 448
        },
        "outputId": "234d42df-ac60-436a-fe64-6e9258331f55"
      },
      "execution_count": null,
      "outputs": [
        {
          "output_type": "execute_result",
          "data": {
            "text/plain": [
              "[<matplotlib.lines.Line2D at 0x7f50d8526950>]"
            ]
          },
          "metadata": {},
          "execution_count": 32
        },
        {
          "output_type": "display_data",
          "data": {
            "text/plain": [
              "<Figure size 640x480 with 1 Axes>"
            ],
            "image/png": "[encoded data removed]"
          },
          "metadata": {}
        }
      ]
    },
    {
      "cell_type": "code",
      "source": [
        "history.history['loss']"
      ],
      "metadata": {
        "colab": {
          "base_uri": "https://localhost:8080/"
        },
        "id": "u6h-Qi22QZX7",
        "outputId": "8bd256d9-01a6-4e6e-9749-4e8f9c7c8145",
        "collapsed": true
      },
      "execution_count": null,
      "outputs": [
        {
          "output_type": "execute_result",
          "data": {
            "text/plain": [
              "[0.07196442782878876,\n",
              " 0.044352274388074875,\n",
              " 0.0582268051803112,\n",
              " 0.04773521423339844,\n",
              " 0.04670800268650055,\n",
              " 0.05337075516581535,\n",
              " 0.03603142127394676,\n",
              " 0.024875544011592865,\n",
              " 0.023998018354177475,\n",
              " 0.019798120483756065,\n",
              " 0.019994094967842102,\n",
              " 0.012226101011037827,\n",
              " 0.01731172390282154,\n",
              " 0.015196788124740124,\n",
              " 0.011112932115793228,\n",
              " 0.020455941557884216,\n",
              " 0.01347403135150671,\n",
              " 0.012574657797813416,\n",
              " 0.012886909767985344,\n",
              " 0.013466591946780682,\n",
              " 0.011669624596834183,\n",
              " 0.013171079568564892,\n",
              " 0.01175458263605833,\n",
              " 0.010154691524803638,\n",
              " 0.011270553804934025,\n",
              " 0.010841643437743187,\n",
              " 0.0107218436896801,\n",
              " 0.008763707242906094,\n",
              " 0.009484415873885155,\n",
              " 0.013776210136711597,\n",
              " 0.009842145256698132,\n",
              " 0.011966821737587452,\n",
              " 0.01339578628540039,\n",
              " 0.0101857278496027,\n",
              " 0.008153736591339111,\n",
              " 0.007706647738814354,\n",
              " 0.010402591899037361,\n",
              " 0.010210095904767513,\n",
              " 0.00818854570388794,\n",
              " 0.0104643814265728,\n",
              " 0.007542415522038937,\n",
              " 0.010147592052817345,\n",
              " 0.00837608240544796,\n",
              " 0.008549386635422707,\n",
              " 0.006994055584073067,\n",
              " 0.008020393550395966,\n",
              " 0.008766480721533298,\n",
              " 0.0074562025256454945,\n",
              " 0.0074120499193668365,\n",
              " 0.00888829119503498,\n",
              " 0.007688639219850302,\n",
              " 0.006867656018584967,\n",
              " 0.007203253451734781,\n",
              " 0.007011419162154198,\n",
              " 0.006211862433701754,\n",
              " 0.006626600865274668,\n",
              " 0.007229828741401434,\n",
              " 0.008449242450296879,\n",
              " 0.007696709595620632,\n",
              " 0.006538946647197008,\n",
              " 0.007001773454248905,\n",
              " 0.005971531383693218,\n",
              " 0.0075902873650193214,\n",
              " 0.005625612568110228,\n",
              " 0.0056884074583649635,\n",
              " 0.006417385768145323,\n",
              " 0.007832664065063,\n",
              " 0.005859143100678921,\n",
              " 0.008244096301496029,\n",
              " 0.006606266833841801]"
            ]
          },
          "metadata": {},
          "execution_count": 33
        }
      ]
    },
    {
      "cell_type": "code",
      "source": [
        "# Assuming 'model' is your trained model\n",
        "model_path = '/content/drive/MyDrive/project/model_soh.h5'\n",
        "model.save(model_path)\n"
      ],
      "metadata": {
        "colab": {
          "base_uri": "https://localhost:8080/"
        },
        "id": "bvRy0BE_Qpgw",
        "outputId": "f87b7da2-d283-4322-98f5-7daf58837907"
      },
      "execution_count": null,
      "outputs": [
        {
          "output_type": "stream",
          "name": "stderr",
          "text": [
            "/usr/local/lib/python3.10/dist-packages/keras/src/engine/training.py:3103: UserWarning: You are saving your model as an HDF5 file via `model.save()`. This file format is considered legacy. We recommend using instead the native Keras format, e.g. `model.save('my_model.keras')`.\n",
            "  saving_api.save_model(\n"
          ]
        }
      ]
    },
    {
      "cell_type": "code",
      "source": [
        "# Save the model to Google Drive\n",
        "model_save_path = '/content/drive/MyDrive/project/my_cnn_model_soh.keras'\n",
        "model.save(model_save_path)\n"
      ],
      "metadata": {
        "id": "Eo6P92qKGalq"
      },
      "execution_count": null,
      "outputs": []
    },
    {
      "cell_type": "code",
      "source": [
        "# Load the model from Google Drive\n",
        "loaded_model = tf.keras.models.load_model(model_save_path)\n",
        "\n",
        "# # Verify the model by making a prediction\n",
        "# x_test = tf.random.normal([10, 28, 28, 1])\n",
        "# predictions = loaded_model.predict(x_test)\n",
        "# print(predictions)\n"
      ],
      "metadata": {
        "id": "RQbZKQG3FMSK"
      },
      "execution_count": null,
      "outputs": []
    },
    {
      "cell_type": "code",
      "source": [
        "## load test data\n",
        "\n",
        "# Load the arrays back from the .npz file\n",
        "loaded2 = np.load('/content/drive/MyDrive/project/soh_test.npz')\n",
        "data_test = loaded2['array1']\n",
        "target_test = loaded2['array2']"
      ],
      "metadata": {
        "id": "wEKtl0vno4KB"
      },
      "execution_count": null,
      "outputs": []
    },
    {
      "cell_type": "code",
      "source": [
        "data_test.shape"
      ],
      "metadata": {
        "colab": {
          "base_uri": "https://localhost:8080/"
        },
        "id": "6nweP_hCpYD9",
        "outputId": "0dfc9e09-11fe-4e47-8e51-ad9850ad0915"
      },
      "execution_count": null,
      "outputs": [
        {
          "output_type": "execute_result",
          "data": {
            "text/plain": [
              "(30, 30, 3, 812)"
            ]
          },
          "metadata": {},
          "execution_count": 59
        }
      ]
    },
    {
      "cell_type": "code",
      "source": [
        "# Transpose the data to have shape (7703, 30, 30, 3)\n",
        "data_test = np.transpose(data_test, (3, 0, 1, 2))"
      ],
      "metadata": {
        "id": "I_QLnusjpafy"
      },
      "execution_count": null,
      "outputs": []
    },
    {
      "cell_type": "code",
      "source": [
        "y_hat = loaded_model.predict(data_test)"
      ],
      "metadata": {
        "colab": {
          "base_uri": "https://localhost:8080/"
        },
        "id": "xTX0q_w2o6Kr",
        "outputId": "ad5ab19a-16a9-4fc0-ddd5-28a876cf165c"
      },
      "execution_count": null,
      "outputs": [
        {
          "output_type": "stream",
          "name": "stdout",
          "text": [
            "26/26 [==============================] - 0s 10ms/step\n"
          ]
        }
      ]
    },
    {
      "cell_type": "code",
      "source": [
        "y = target_test"
      ],
      "metadata": {
        "id": "viLpPcJzpXIp"
      },
      "execution_count": null,
      "outputs": []
    },
    {
      "cell_type": "code",
      "source": [
        "from sklearn.metrics import mean_squared_error\n",
        "import numpy as np\n",
        "\n",
        "# Calculate RMSE\n",
        "rmse = np.sqrt(mean_squared_error(y,y_hat))\n",
        "print(\"RMSE:\", rmse)"
      ],
      "metadata": {
        "colab": {
          "base_uri": "https://localhost:8080/"
        },
        "id": "KNyaZHNFptp3",
        "outputId": "82cf506d-2f4e-406f-d2cf-80a2be9c39a7"
      },
      "execution_count": null,
      "outputs": [
        {
          "output_type": "stream",
          "name": "stdout",
          "text": [
            "RMSE: 0.004455717632345041\n"
          ]
        }
      ]
    },
    {
      "cell_type": "code",
      "source": [
        "from sklearn.metrics import mean_absolute_error\n",
        "import numpy as np\n",
        "\n",
        "# Calculate MAE\n",
        "mae = mean_absolute_error(y,y_hat)\n",
        "print(\"MAE:\", f'{mae*100}%')"
      ],
      "metadata": {
        "colab": {
          "base_uri": "https://localhost:8080/"
        },
        "id": "yMnksbiupz4q",
        "outputId": "4223fd7a-8820-4127-dcbb-0f1d23ba5e39"
      },
      "execution_count": null,
      "outputs": [
        {
          "output_type": "stream",
          "name": "stdout",
          "text": [
            "MAE: 0.34972990660946385%\n"
          ]
        }
      ]
    },
    {
      "cell_type": "code",
      "source": [
        "import numpy as np\n",
        "import matplotlib.pyplot as plt"
      ],
      "metadata": {
        "id": "18C-BWvKrxm3"
      },
      "execution_count": null,
      "outputs": []
    },
    {
      "cell_type": "code",
      "source": [
        "fig, ax = plt.subplots(figsize=(8, 6))\n",
        "ax.plot(y, label='Actual',color = \"red\")\n",
        "ax.plot(y_hat, color='green', label='Predicted')\n",
        "ax.set_xlabel(\"cycle_no\")\n",
        "ax.set_ylabel(\"SOH\")\n",
        "ax.legend()\n",
        "\n",
        "plt.show()\n"
      ],
      "metadata": {
        "colab": {
          "base_uri": "https://localhost:8080/",
          "height": 542
        },
        "id": "nBugCeWip9BH",
        "outputId": "80756395-9591-42f5-8eda-f8bc826ba510"
      },
      "execution_count": null,
      "outputs": [
        {
          "output_type": "display_data",
          "data": {
            "text/plain": [
              "<Figure size 800x600 with 1 Axes>"
            ],
            "image/png": "[encoded data removed]"
          },
          "metadata": {}
        }
      ]
    },
    {
      "cell_type": "code",
      "source": [
        "y.shape"
      ],
      "metadata": {
        "colab": {
          "base_uri": "https://localhost:8080/"
        },
        "id": "eCTH3cUSsVHw",
        "outputId": "89103c31-bd47-4bd9-b2d3-d7d1dcd0a2d0"
      },
      "execution_count": null,
      "outputs": [
        {
          "output_type": "execute_result",
          "data": {
            "text/plain": [
              "(842,)"
            ]
          },
          "metadata": {},
          "execution_count": 54
        }
      ]
    },
    {
      "cell_type": "code",
      "source": [
        "loaded_model.loss"
      ],
      "metadata": {
        "colab": {
          "base_uri": "https://localhost:8080/",
          "height": 36
        },
        "id": "24OZqSjyqFV9",
        "outputId": "2f052665-d6c6-4787-d329-a4656a279788"
      },
      "execution_count": null,
      "outputs": [
        {
          "output_type": "execute_result",
          "data": {
            "text/plain": [
              "'mae'"
            ],
            "application/vnd.google.colaboratory.intrinsic+json": {
              "type": "string"
            }
          },
          "metadata": {},
          "execution_count": 55
        }
      ]
    },
    {
      "cell_type": "code",
      "source": [],
      "metadata": {
        "id": "D4ZXGMSwA2FL"
      },
      "execution_count": null,
      "outputs": []
    }
  ],
  "metadata": {
    "language_info": {
      "name": "python"
    },
    "colab": {
      "provenance": [],
      "gpuType": "V28"
    },
    "kernelspec": {
      "name": "python3",
      "display_name": "Python 3"
    },
    "accelerator": "TPU"
  },
  "nbformat": 4,
  "nbformat_minor": 0
}